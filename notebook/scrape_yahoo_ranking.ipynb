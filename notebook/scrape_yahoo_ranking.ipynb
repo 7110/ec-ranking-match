{
 "cells": [
  {
   "cell_type": "code",
   "execution_count": 1,
   "id": "90e5dbd3-7d5e-4527-b048-c740b7d3789d",
   "metadata": {},
   "outputs": [],
   "source": [
    "import requests"
   ]
  },
  {
   "cell_type": "code",
   "execution_count": 2,
   "id": "b049eec9-67fd-45e8-acc1-324f8518fcfd",
   "metadata": {},
   "outputs": [],
   "source": [
    "BASE_URL = 'https://shopping.yahoo.co.jp/categoryranking/'"
   ]
  },
  {
   "cell_type": "code",
   "execution_count": null,
   "id": "45de05f1-dde4-48c8-8597-c244ff246a30",
   "metadata": {},
   "outputs": [],
   "source": []
  },
  {
   "cell_type": "code",
   "execution_count": null,
   "id": "98590e1f-b609-47c4-9327-cc89aeb08eee",
   "metadata": {},
   "outputs": [],
   "source": []
  },
  {
   "cell_type": "code",
   "execution_count": null,
   "id": "6f8425e6-e3dd-47cd-8d26-b17dfbf2f308",
   "metadata": {},
   "outputs": [],
   "source": []
  },
  {
   "cell_type": "code",
   "execution_count": null,
   "id": "13d514a5-9721-4d40-aa34-aa796a1a76c9",
   "metadata": {},
   "outputs": [],
   "source": []
  },
  {
   "cell_type": "code",
   "execution_count": null,
   "id": "a2efb421-a6b0-4f72-a6f3-542c295bb570",
   "metadata": {},
   "outputs": [],
   "source": []
  }
 ],
 "metadata": {
  "kernelspec": {
   "display_name": "Python 3 (ipykernel)",
   "language": "python",
   "name": "python3"
  },
  "language_info": {
   "codemirror_mode": {
    "name": "ipython",
    "version": 3
   },
   "file_extension": ".py",
   "mimetype": "text/x-python",
   "name": "python",
   "nbconvert_exporter": "python",
   "pygments_lexer": "ipython3",
   "version": "3.9.6"
  }
 },
 "nbformat": 4,
 "nbformat_minor": 5
}
